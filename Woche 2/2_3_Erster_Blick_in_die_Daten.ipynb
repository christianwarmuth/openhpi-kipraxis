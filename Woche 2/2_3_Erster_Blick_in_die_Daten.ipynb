{
  "cells": [
    {
      "cell_type": "markdown",
      "metadata": {
        "colab_type": "text",
        "id": "view-in-github"
      },
      "source": [
        "<a href=\"https://colab.research.google.com/github/christianwarmuth/openhpi-kipraxis/blob/main/Woche%202/2_3_Erster_Blick_in_die_Daten.ipynb\" target=\"_parent\"><img src=\"https://colab.research.google.com/assets/colab-badge.svg\" alt=\"Open In Colab\"/></a>"
      ]
    },
    {
      "cell_type": "markdown",
      "id": "eb899884",
      "metadata": {
        "id": "eb899884"
      },
      "source": [
        "## 0. Installieren aller Pakete"
      ]
    },
    {
      "cell_type": "code",
      "execution_count": null,
      "id": "g3avX4ANfFsc",
      "metadata": {
        "id": "g3avX4ANfFsc"
      },
      "outputs": [],
      "source": [
        "# Hier die Kaggle Credentials einfügen (ohne Anführungszeichen)\n",
        "\n",
        "%env KAGGLE_USERNAME=openhpi\n",
        "%env KAGGLE_KEY=das_ist_der_key"
      ]
    },
    {
      "cell_type": "code",
      "execution_count": null,
      "id": "PHnYLCkbU9I5",
      "metadata": {
        "id": "PHnYLCkbU9I5"
      },
      "outputs": [],
      "source": [
        "!pip install quickda\n",
        "!pip install multidict\n",
        "!pip install pandas-profiling==2.8.0 "
      ]
    },
    {
      "cell_type": "code",
      "execution_count": null,
      "id": "9ed6ec2c",
      "metadata": {
        "id": "9ed6ec2c"
      },
      "outputs": [],
      "source": [
        "import pandas as pd\n",
        "from quickda.explore_data import *\n",
        "from quickda.clean_data import *\n",
        "from quickda.explore_numeric import *\n",
        "from quickda.explore_categoric import *\n",
        "from quickda.explore_numeric_categoric import *\n",
        "from quickda.explore_time_series import *\n",
        "\n",
        "import nltk\n",
        "from nltk.corpus import stopwords\n",
        "nltk.download('stopwords')\n",
        "nltk.download('punkt')\n",
        "\n",
        "from nltk.tokenize import word_tokenize\n",
        "import codecs\n",
        "from wordcloud import WordCloud\n",
        "\n",
        "import multidict as multidict\n",
        "\n",
        "import numpy as np\n",
        "\n",
        "import re\n",
        "from PIL import Image\n",
        "from os import path\n",
        "from wordcloud import WordCloud\n",
        "import matplotlib.pyplot as plt\n",
        "from matplotlib import rcParams\n",
        "import string\n",
        "rcParams['figure.figsize'] = 12, 8\n",
        "\n",
        "%matplotlib inline"
      ]
    },
    {
      "cell_type": "code",
      "execution_count": null,
      "id": "60217a4a",
      "metadata": {
        "id": "60217a4a"
      },
      "outputs": [],
      "source": [
        "!jupyter nbextension enable --py widgetsnbextension --sys-prefix\n",
        "pd.options.mode.chained_assignment = None"
      ]
    },
    {
      "cell_type": "code",
      "execution_count": null,
      "id": "d90163f8",
      "metadata": {
        "id": "d90163f8"
      },
      "outputs": [],
      "source": [
        "!jupyter nbextension enable --py widgetsnbextension"
      ]
    },
    {
      "cell_type": "code",
      "execution_count": null,
      "id": "c2eba58b",
      "metadata": {
        "id": "c2eba58b"
      },
      "outputs": [],
      "source": [
        "def getFrequencyDictForText(sentence, remove_stop_words=False):\n",
        " \n",
        "    sentence = ' '.join(sentence)\n",
        "    sentence = sentence.translate(str.maketrans('', '', string.punctuation))\n",
        "    if remove_stop_words:\n",
        "        sentence_tokenized = word_tokenize(sentence)\n",
        "        sentence = [word for word in sentence_tokenized if not word in stopwords.words()]\n",
        "        sentence = ' '.join(sentence)\n",
        "    fullTermsDict = multidict.MultiDict()\n",
        "    tmpDict = {}\n",
        "\n",
        "    for text in sentence.split(\" \"):\n",
        "        val = tmpDict.get(text, 0)\n",
        "        tmpDict[text.lower()] = val + 1\n",
        "    for key in tmpDict:\n",
        "        fullTermsDict.add(key, tmpDict[key])\n",
        "    return fullTermsDict\n",
        "\n",
        "\n",
        "def makeImage(text):\n",
        "\n",
        "    wc = WordCloud(background_color=\"white\", max_words=100)\n",
        "    # generate word cloud\n",
        "    wc.generate_from_frequencies(text)\n",
        "\n",
        "    # show\n",
        "    plt.imshow(wc, interpolation=\"bilinear\")\n",
        "    plt.axis(\"off\")\n",
        "    plt.show()\n",
        "    \n",
        "def get_film_descriptions(df):\n",
        "    sentence_list = df.dropna().tolist()\n",
        "    sentence_list_new = []\n",
        "    for line in sentence_list:\n",
        "        sentence_list_new.append(' '.join( [w for w in line.split() if len(w)>1] ))\n",
        "    pattern = '[0-9]'\n",
        "    sentence_list = [re.sub(pattern, '', str(i)) for i in sentence_list_new[:100]]\n",
        "    return sentence_list"
      ]
    },
    {
      "cell_type": "markdown",
      "id": "ff5e3bf1",
      "metadata": {
        "id": "ff5e3bf1"
      },
      "source": [
        "# 2.3 Erster Blick in die Daten\n",
        "\n",
        "<img width=70% src=\"https://raw.githubusercontent.com/christianwarmuth/openhpi-kipraxis/main/images/jakob-owens-CiUR8zISX60-unsplash%20(2).jpg\">\n",
        "\n"
      ]
    },
    {
      "cell_type": "markdown",
      "id": "72045723",
      "metadata": {
        "id": "72045723"
      },
      "source": [
        "Datensatz: \n",
        "\n",
        "### The Movies Dataset\n",
        "Metadaten für über 45.000 Filme. 26 Millionen Bewertungen von über 270.000 NutzerInnen.\n",
        "\n",
        "Quelle: kaggle.com"
      ]
    },
    {
      "cell_type": "markdown",
      "id": "1eb217d9",
      "metadata": {
        "id": "1eb217d9"
      },
      "source": [
        "## Download Dataset "
      ]
    },
    {
      "cell_type": "markdown",
      "id": "00fc0b24",
      "metadata": {
        "id": "00fc0b24"
      },
      "source": [
        "### Manuell\n",
        "via https://www.kaggle.com/rounakbanik/the-movies-dataset"
      ]
    },
    {
      "cell_type": "markdown",
      "id": "4f172699",
      "metadata": {
        "id": "4f172699"
      },
      "source": [
        "### Via API\n",
        "\n",
        "Hinzufügen der kaggle.json\n",
        "Speichern als ~/.kaggle/kaggle.json auf Linux, OSX, oder andere UNIX-based Betriebssysteme und unter C:\\Users<Windows-username>.kaggle\\kaggle.json auf Windows\n",
        "\n",
        "Siehe https://www.kaggle.com/docs/api oder https://github.com/Kaggle/kaggle-api\n",
        "        \n",
        "Beispiel:\n",
        "~/kaggle/kaggle.json\n",
        "\n",
        "{\"username\":\"openHPI\",\"key\":\"das_ist_der_key\"}"
      ]
    },
    {
      "cell_type": "code",
      "execution_count": null,
      "id": "c1bef49c",
      "metadata": {
        "id": "c1bef49c"
      },
      "outputs": [],
      "source": [
        "!pip3 install kaggle\n",
        "!kaggle datasets download -d rounakbanik/the-movies-dataset"
      ]
    },
    {
      "cell_type": "code",
      "execution_count": null,
      "id": "LQa1I8ZNftBH",
      "metadata": {
        "id": "LQa1I8ZNftBH"
      },
      "outputs": [],
      "source": [
        "import zipfile\n",
        "with zipfile.ZipFile(\"the-movies-dataset.zip\", 'r') as zip_ref:\n",
        "    zip_ref.extractall(\"\")"
      ]
    },
    {
      "cell_type": "markdown",
      "id": "a160edae",
      "metadata": {
        "id": "a160edae"
      },
      "source": [
        "## Übersicht über alle Dateien\n",
        "\n",
        "Zunächst sehen wir uns alle Dateien in diesem Datensatz einmal an. Wir werden für das Recommender-System hauptsächlich zwei Dateien näher ansehen: **movies_metadata.csv** und **ratings.csv**. Dafür wechseln wir zunächst in das Verzeichnis mit den Daten und lassen uns alle Dateien auflisten. Hier sieht man bereits die unterschiedliche Größe der verschiedenen Dateien."
      ]
    },
    {
      "cell_type": "code",
      "execution_count": null,
      "id": "2c30b648",
      "metadata": {
        "id": "2c30b648"
      },
      "outputs": [],
      "source": [
        "!ls -gnG"
      ]
    },
    {
      "cell_type": "markdown",
      "id": "92f831a8",
      "metadata": {
        "id": "92f831a8"
      },
      "source": [
        "# Film Meta-Daten\n",
        "\n",
        "Nun schauen wir genauer in die Film-Metadaten. Diese Datei werden wir hauptsächlich dazu verwenden, um die **content-based Recommendation** umzusetzen. Zunächst laden wir den Datensatz aus einer .csv-Datei. \"csv\" steht für comma-separated-values und ist ein sehr gängiges Datenformat neben z.B: .json im Machine Learning Bereich. "
      ]
    },
    {
      "cell_type": "code",
      "execution_count": null,
      "id": "bfd8e57d",
      "metadata": {
        "id": "bfd8e57d"
      },
      "outputs": [],
      "source": [
        "import pandas as pd\n",
        "df_film_metadata = pd.read_csv(\"movies_metadata.csv\", low_memory=False)"
      ]
    },
    {
      "cell_type": "code",
      "execution_count": null,
      "id": "17dd38b7",
      "metadata": {
        "id": "17dd38b7"
      },
      "outputs": [],
      "source": [
        "df_film_metadata.head()"
      ]
    },
    {
      "cell_type": "markdown",
      "id": "1e3e2a52",
      "metadata": {
        "id": "1e3e2a52"
      },
      "source": [
        "Damit wir einen besseren Überblick über alle Features gewinnen, nutzen wir eine Bibliothek, welche einfache Auswertungen bereits auf dem Datensatz und den Features für uns macht. "
      ]
    },
    {
      "cell_type": "code",
      "execution_count": null,
      "id": "7acd47fd",
      "metadata": {
        "id": "7acd47fd"
      },
      "outputs": [],
      "source": [
        "explore(df_film_metadata[df_film_metadata.columns.difference(['adult', \"homepage\", \"id\"])], method='profile', report_name='Report')"
      ]
    },
    {
      "cell_type": "markdown",
      "id": "37fb8906",
      "metadata": {
        "id": "37fb8906"
      },
      "source": [
        "Sehen wir uns noch einmal übersichtlich alle Features an. Potentiell könnten wir hiervon mehrere Features für unsere content-based Recommendation heranziehen. Wir werden uns jedoch darauf fokussieren, Ähnlichkeit anhand der Filmbeschreibungen zu ermitteln. "
      ]
    },
    {
      "cell_type": "code",
      "execution_count": null,
      "id": "aa49e498",
      "metadata": {
        "id": "aa49e498"
      },
      "outputs": [],
      "source": [
        "df_film_metadata.columns.tolist()"
      ]
    },
    {
      "cell_type": "markdown",
      "id": "942db639",
      "metadata": {
        "id": "942db639"
      },
      "source": [
        "Die Kurzbeschreibungen einzelner Filme findet sich in der Spalte **overview**. "
      ]
    },
    {
      "cell_type": "code",
      "execution_count": null,
      "id": "303cf34b",
      "metadata": {
        "id": "303cf34b"
      },
      "outputs": [],
      "source": [
        "word_list = get_film_descriptions(df_film_metadata[\"overview\"])"
      ]
    },
    {
      "cell_type": "markdown",
      "id": "e7beb3d7",
      "metadata": {
        "id": "e7beb3d7"
      },
      "source": [
        "Wir schauen uns als Beispiel einen ganz bekannten Film an. Auf Platz 10 in unserer Liste findet sich **Golden Eye** - ein Film aus der James Bond Filmreihe. Wir nutzen hier den Index 9, da auch in Python Listen im Index mit 0 beginnen. Will man also den zehnten Eintrag erhalten, wählt man Index 9. "
      ]
    },
    {
      "cell_type": "code",
      "execution_count": null,
      "id": "a0b1d033",
      "metadata": {
        "id": "a0b1d033"
      },
      "outputs": [],
      "source": [
        "print(\"Film-Titel: \" + df_film_metadata[\"title\"][9] + \"\\n\")\n",
        "print(\"Film-Beschreibung: \" + word_list[9])"
      ]
    },
    {
      "cell_type": "markdown",
      "id": "36c46415",
      "metadata": {
        "id": "36c46415"
      },
      "source": [
        "Um einen Überblick über die ganzen Filme in unserem Datensatz zu gewinnen, erstellen wir eine sogenannte Wort-Wolke/Word-Cloud, die alle Wörter in den Kurzbeschreibungen enthält. "
      ]
    },
    {
      "cell_type": "code",
      "execution_count": null,
      "id": "3c9c8b23",
      "metadata": {
        "id": "3c9c8b23"
      },
      "outputs": [],
      "source": [
        "makeImage(getFrequencyDictForText(word_list))"
      ]
    },
    {
      "cell_type": "markdown",
      "id": "6471b9b7",
      "metadata": {
        "id": "6471b9b7"
      },
      "source": [
        "Hierbei fällt allerdings auf, dass sehr viele der Worte wenig Bedeutung haben für den Inhalt. Diese sogenannten **Stopwords** filtern wir nun aus den Beschreibungen der Filme und lassen uns erneut eine Wort-Wolke anzeigen."
      ]
    },
    {
      "cell_type": "code",
      "execution_count": null,
      "id": "c8ef2963",
      "metadata": {
        "id": "c8ef2963"
      },
      "outputs": [],
      "source": [
        "makeImage(getFrequencyDictForText(word_list, remove_stop_words=True))"
      ]
    },
    {
      "cell_type": "markdown",
      "id": "6cde5024",
      "metadata": {
        "id": "6cde5024"
      },
      "source": [
        "# Film-Bewertungen der NutzerInnen\n",
        "\n",
        "\n",
        "Nun betrachten wir auch die Film-Bewertungen für das Empfehlungssystem basierend auf **Collaborative Filtering**. Auch hier laden wir zunächst mal die jeweilige Date in ein Pandas DataFrame."
      ]
    },
    {
      "cell_type": "code",
      "execution_count": null,
      "id": "05bd3de8",
      "metadata": {
        "id": "05bd3de8"
      },
      "outputs": [],
      "source": [
        "df_film_votes = pd.read_csv(\"ratings.csv\", low_memory=False)"
      ]
    },
    {
      "cell_type": "markdown",
      "id": "bef27524",
      "metadata": {
        "id": "bef27524"
      },
      "source": [
        "Mit dem Befehl **.head()** können wir uns die ersten Einträge des DataFrames anzeigen lassen und bekommen ein Gefühl dafür, wie diese Datei und der Inhalt aufgebaut ist. "
      ]
    },
    {
      "cell_type": "code",
      "execution_count": null,
      "id": "22f96404",
      "metadata": {
        "id": "22f96404"
      },
      "outputs": [],
      "source": [
        "df_film_votes.head()"
      ]
    },
    {
      "cell_type": "markdown",
      "id": "f59bd686",
      "metadata": {
        "id": "f59bd686"
      },
      "source": [
        "Wollen wir erfahren, wie viele einzelne NutzerInnen und Nutzer es gibt und wie viele einzelne Filme, so können wir das wie folgt machen. "
      ]
    },
    {
      "cell_type": "code",
      "execution_count": null,
      "id": "03ffb546",
      "metadata": {
        "id": "03ffb546"
      },
      "outputs": [],
      "source": [
        "df_film_votes[[\"movieId\", \"userId\"]].nunique()"
      ]
    },
    {
      "cell_type": "markdown",
      "id": "c145b1b4",
      "metadata": {
        "id": "c145b1b4"
      },
      "source": [
        "Da das von Bewertungsplattform zu Bewertungsplattform unterschiedlich gehandhabt wird, schauen uns wir die einzelnen Werte der Bewertungen einmal genauer an. Hier sehen wir, dass die Bewertungen in Schritten von 0,5 gegeben werden können von 0,5 bis 5,0. "
      ]
    },
    {
      "cell_type": "code",
      "execution_count": null,
      "id": "bec38002",
      "metadata": {
        "id": "bec38002"
      },
      "outputs": [],
      "source": [
        "sorted(df_film_votes[\"rating\"].unique())"
      ]
    },
    {
      "cell_type": "markdown",
      "id": "9de8eb9b",
      "metadata": {
        "id": "9de8eb9b"
      },
      "source": [
        "Um die Verteilung der Bewertungen einmal genauer zu sehen, geben wir uns ein sogenanntes Histogramm aus. Ein Histogramm zeigt die Häufigkeit einzelner Ausprägungen. Beispielsweise wie oft 3,0 als Bewertung gegeben wurde. "
      ]
    },
    {
      "cell_type": "code",
      "execution_count": null,
      "id": "64418585",
      "metadata": {
        "id": "64418585"
      },
      "outputs": [],
      "source": [
        "df_film_votes[[\"rating\"]].hist()"
      ]
    }
  ],
  "metadata": {
    "celltoolbar": "Slideshow",
    "colab": {
      "collapsed_sections": [],
      "include_colab_link": true,
      "name": "2.3 Erster Blick in die Daten.ipynb",
      "provenance": []
    },
    "interpreter": {
      "hash": "949777d72b0d2535278d3dc13498b2535136f6dfe0678499012e853ee9abcab1"
    },
    "kernelspec": {
      "display_name": "Python 3.7.9 64-bit",
      "name": "python3"
    },
    "language_info": {
      "codemirror_mode": {
        "name": "ipython",
        "version": 3
      },
      "file_extension": ".py",
      "mimetype": "text/x-python",
      "name": "python",
      "nbconvert_exporter": "python",
      "pygments_lexer": "ipython3",
      "version": "3.7.9"
    }
  },
  "nbformat": 4,
  "nbformat_minor": 5
}
