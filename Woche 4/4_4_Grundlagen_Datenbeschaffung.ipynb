{
 "cells": [
  {
   "cell_type": "markdown",
   "id": "2aedeca3",
   "metadata": {},
   "source": [
    "# 4.4 Grundlagen Datenbeschaffung\n",
    "\n",
    "<img width=80% src=\"../images/datenbeschaffung.png\">"
   ]
  },
  {
   "cell_type": "markdown",
   "id": "6c9258b8",
   "metadata": {},
   "source": [
    "### Installieren der Pakete\n",
    "\n",
    "Wir fangen wie gewohnt damit an, die relevanten Bibliotheken zu importieren"
   ]
  },
  {
   "cell_type": "code",
   "execution_count": null,
   "id": "005378ba-543d-4298-92bb-88f81deac35a",
   "metadata": {},
   "outputs": [],
   "source": [
    "!pip3 install selenium"
   ]
  },
  {
   "cell_type": "code",
   "execution_count": null,
   "id": "a729237a",
   "metadata": {},
   "outputs": [],
   "source": [
    "from selenium import webdriver\n",
    "import pandas as pd"
   ]
  },
  {
   "cell_type": "markdown",
   "id": "cf37a271",
   "metadata": {},
   "source": [
    "### Arbeit im Browser\n",
    "\n",
    "Wir wollen ein Verhalten im Web nachprogrammieren; daher müssen wir zunächst wissen, wie dieses Verhalten aussieht."
   ]
  },
  {
   "cell_type": "markdown",
   "id": "6db3baa4",
   "metadata": {},
   "source": [
    "### Implementierung\n",
    "\n",
    "Nun können wir einfach dieses Verhalten abbilden. Wir öffnen einen Chrome Driver mit Selenium und navigieren zur Kursübersicht:"
   ]
  },
  {
   "cell_type": "code",
   "execution_count": null,
   "id": "080d2561",
   "metadata": {},
   "outputs": [],
   "source": [
    "driver = webdriver.Chrome(\"./chromedriver\")\n",
    "driver.get(\"https://open.hpi.de/courses\")"
   ]
  },
  {
   "cell_type": "markdown",
   "id": "fffa7f3a",
   "metadata": {},
   "source": [
    "Anschließend können wir z.B. die Titel der einzelnen Kurse entsprechend der HTML-Struktur sammeln und einer Liste hinzufügen:"
   ]
  },
  {
   "cell_type": "code",
   "execution_count": null,
   "id": "893d6c91",
   "metadata": {},
   "outputs": [],
   "source": [
    "titles = []\n",
    "for course_div in driver.find_elements_by_class_name(\"course-title\"):\n",
    "    anchor = course_div.find_elements_by_xpath('./h4/a')[0]\n",
    "    title = anchor.get_attribute(\"title\")\n",
    "    titles.append({\"title\": title})"
   ]
  },
  {
   "cell_type": "markdown",
   "id": "debfb769",
   "metadata": {},
   "source": [
    "Schauen wir uns das Ergebnis als DataFrame einmal an:"
   ]
  },
  {
   "cell_type": "code",
   "execution_count": null,
   "id": "6083ed7a",
   "metadata": {},
   "outputs": [],
   "source": [
    "df = pd.DataFrame(titles)\n",
    "df"
   ]
  },
  {
   "cell_type": "markdown",
   "id": "1ffe9a11",
   "metadata": {},
   "source": [
    "Jetzt können wir die Daten einfach abspeichern, z.B. als CSV-Datei:"
   ]
  },
  {
   "cell_type": "code",
   "execution_count": null,
   "id": "9800622c",
   "metadata": {},
   "outputs": [],
   "source": [
    "df.to_csv(\"hpi_kursdaten.csv\", index=False)"
   ]
  }
 ],
 "metadata": {
  "interpreter": {
   "hash": "949777d72b0d2535278d3dc13498b2535136f6dfe0678499012e853ee9abcab1"
  },
  "kernelspec": {
   "display_name": "Python 3.7.9 64-bit",
   "name": "python3"
  },
  "language_info": {
   "codemirror_mode": {
    "name": "ipython",
    "version": 3
   },
   "file_extension": ".py",
   "mimetype": "text/x-python",
   "name": "python",
   "nbconvert_exporter": "python",
   "pygments_lexer": "ipython3",
   "version": "3.7.9"
  }
 },
 "nbformat": 4,
 "nbformat_minor": 5
}
