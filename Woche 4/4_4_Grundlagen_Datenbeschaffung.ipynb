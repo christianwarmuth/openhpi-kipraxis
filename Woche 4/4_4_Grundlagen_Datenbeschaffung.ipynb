{
  "nbformat": 4,
  "nbformat_minor": 5,
  "metadata": {
    "kernelspec": {
      "display_name": "Python 3 (ipykernel)",
      "language": "python",
      "name": "python3"
    },
    "language_info": {
      "codemirror_mode": {
        "name": "ipython",
        "version": 3
      },
      "file_extension": ".py",
      "mimetype": "text/x-python",
      "name": "python",
      "nbconvert_exporter": "python",
      "pygments_lexer": "ipython3",
      "version": "3.7.10"
    },
    "colab": {
      "name": "4_4_Grundlagen_Datenbeschaffung.ipynb",
      "provenance": [],
      "collapsed_sections": [],
      "include_colab_link": true
    }
  },
  "cells": [
    {
      "cell_type": "markdown",
      "metadata": {
        "id": "view-in-github",
        "colab_type": "text"
      },
      "source": [
        "<a href=\"https://colab.research.google.com/github/christianwarmuth/openhpi-kipraxis/blob/main/Woche%204/4_4_Grundlagen_Datenbeschaffung.ipynb\" target=\"_parent\"><img src=\"https://colab.research.google.com/assets/colab-badge.svg\" alt=\"Open In Colab\"/></a>"
      ]
    },
    {
      "cell_type": "markdown",
      "metadata": {
        "id": "2aedeca3"
      },
      "source": [
        "# 4.4 Grundlagen Datenbeschaffung\n",
        "\n",
        "<img width=80% src=\"https://raw.githubusercontent.com/christianwarmuth/openhpi-kipraxis/main/images/datenbeschaffung.png\">"
      ],
      "id": "2aedeca3"
    },
    {
      "cell_type": "markdown",
      "metadata": {
        "id": "6c9258b8"
      },
      "source": [
        "### Installieren der Pakete\n",
        "\n",
        "Wir fangen wie gewohnt damit an, die relevanten Bibliotheken zu importieren"
      ],
      "id": "6c9258b8"
    },
    {
      "cell_type": "code",
      "metadata": {
        "id": "005378ba-543d-4298-92bb-88f81deac35a"
      },
      "source": [
        "!pip3 install selenium\n",
        "\n",
        "!apt-get update \n",
        "!apt install chromium-chromedriver"
      ],
      "id": "005378ba-543d-4298-92bb-88f81deac35a",
      "execution_count": null,
      "outputs": []
    },
    {
      "cell_type": "code",
      "metadata": {
        "id": "a729237a"
      },
      "source": [
        "from selenium import webdriver\n",
        "from selenium.webdriver.common.by import By\n",
        "import pandas as pd"
      ],
      "id": "a729237a",
      "execution_count": null,
      "outputs": []
    },
    {
      "cell_type": "code",
      "metadata": {
        "id": "2SFxOiKKumkx"
      },
      "source": [
        "chrome_options = webdriver.ChromeOptions()\n",
        "chrome_options.add_argument('--headless')\n",
        "chrome_options.add_argument('--no-sandbox')\n",
        "chrome_options.add_argument('--disable-dev-shm-usage')"
      ],
      "id": "2SFxOiKKumkx",
      "execution_count": null,
      "outputs": []
    },
    {
      "cell_type": "markdown",
      "metadata": {
        "id": "cf37a271"
      },
      "source": [
        "### Arbeit im Browser\n",
        "\n",
        "Wir wollen ein Verhalten im Web nachprogrammieren; daher müssen wir zunächst wissen, wie dieses Verhalten aussieht."
      ],
      "id": "cf37a271"
    },
    {
      "cell_type": "markdown",
      "metadata": {
        "id": "6db3baa4"
      },
      "source": [
        "### Implementierung\n",
        "\n",
        "Nun können wir einfach dieses Verhalten abbilden. Wir öffnen einen Chrome Driver mit Selenium und navigieren zur Kursübersicht:"
      ],
      "id": "6db3baa4"
    },
    {
      "cell_type": "code",
      "metadata": {
        "id": "080d2561"
      },
      "source": [
        "driver = webdriver.Chrome('chromedriver', options=chrome_options)\n",
        "driver.get(\"https://open.hpi.de/courses\")\n"
      ],
      "id": "080d2561",
      "execution_count": null,
      "outputs": []
    },
    {
      "cell_type": "markdown",
      "metadata": {
        "id": "fffa7f3a"
      },
      "source": [
        "Anschließend können wir z.B. die Titel der einzelnen Kurse entsprechend der HTML-Struktur sammeln und einer Liste hinzufügen:"
      ],
      "id": "fffa7f3a"
    },
    {
      "cell_type": "code",
      "metadata": {
        "id": "893d6c91"
      },
      "source": [
        "titles = []\n",
        "for course_div in driver.find_elements(By.CLASS_NAME, \"course-title\"):\n",
        "    anchor = course_div.find_elements(By.XPATH, './h4/a')[0]\n",
        "    title = anchor.get_attribute(\"title\")\n",
        "    titles.append({\"title\": title})\n"
      ],
      "id": "893d6c91",
      "execution_count": null,
      "outputs": []
    },
    {
      "cell_type": "markdown",
      "metadata": {
        "id": "debfb769"
      },
      "source": [
        "Schauen wir uns das Ergebnis als DataFrame einmal an:"
      ],
      "id": "debfb769"
    },
    {
      "cell_type": "code",
      "metadata": {
        "id": "6083ed7a"
      },
      "source": [
        "df = pd.DataFrame(titles)\n",
        "df"
      ],
      "id": "6083ed7a",
      "execution_count": null,
      "outputs": []
    },
    {
      "cell_type": "markdown",
      "metadata": {
        "id": "1ffe9a11"
      },
      "source": [
        "Jetzt können wir die Daten einfach abspeichern, z.B. als CSV-Datei:"
      ],
      "id": "1ffe9a11"
    },
    {
      "cell_type": "code",
      "metadata": {
        "id": "9800622c"
      },
      "source": [
        "df.to_csv(\"hpi_kursdaten.csv\", index=False)"
      ],
      "id": "9800622c",
      "execution_count": null,
      "outputs": []
    },
    {
      "cell_type": "code",
      "metadata": {
        "id": "cssSYNQtuwiM"
      },
      "source": [
        ""
      ],
      "id": "cssSYNQtuwiM",
      "execution_count": null,
      "outputs": []
    }
  ]
}