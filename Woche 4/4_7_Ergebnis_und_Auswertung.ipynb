{
  "cells": [
    {
      "cell_type": "markdown",
      "metadata": {
        "colab_type": "text",
        "id": "view-in-github"
      },
      "source": [
        "<a href=\"https://colab.research.google.com/github/christianwarmuth/openhpi-kipraxis/blob/main/Woche%204/4_7_Ergebnis_und_Auswertung.ipynb\" target=\"_parent\"><img src=\"https://colab.research.google.com/assets/colab-badge.svg\" alt=\"Open In Colab\"/></a>"
      ]
    },
    {
      "cell_type": "markdown",
      "id": "eb899884",
      "metadata": {
        "id": "eb899884"
      },
      "source": [
        "## 0. Installieren aller Pakete"
      ]
    },
    {
      "cell_type": "code",
      "execution_count": null,
      "id": "wIl6AMJRY8BQ",
      "metadata": {
        "id": "wIl6AMJRY8BQ"
      },
      "outputs": [],
      "source": [
        "# Hier die Kaggle Credentials einfügen (ohne Anführungszeichen)\n",
        "\n",
        "%env KAGGLE_USERNAME=openhpi\n",
        "%env KAGGLE_KEY=das_ist_der_key"
      ]
    },
    {
      "cell_type": "code",
      "execution_count": null,
      "id": "dc85b549",
      "metadata": {
        "id": "dc85b549"
      },
      "outputs": [],
      "source": [
        "import warnings\n",
        "warnings.filterwarnings('ignore')\n",
        "\n",
        "import os\n",
        "os.environ['TF_CPP_MIN_LOG_LEVEL'] = '3'"
      ]
    },
    {
      "cell_type": "code",
      "execution_count": null,
      "id": "7acd47fd",
      "metadata": {
        "id": "7acd47fd"
      },
      "outputs": [],
      "source": [
        "import matplotlib.pyplot as plt\n",
        "import seaborn as sns\n",
        "import keras\n",
        "from keras.models import Sequential\n",
        "from keras.layers import Dense, Conv2D , MaxPool2D , Flatten , Dropout , BatchNormalization\n",
        "from keras.preprocessing.image import ImageDataGenerator\n",
        "from sklearn.model_selection import train_test_split\n",
        "from sklearn.metrics import classification_report,confusion_matrix\n",
        "from keras.callbacks import ReduceLROnPlateau\n",
        "from sklearn.preprocessing import LabelBinarizer\n",
        "from keras.preprocessing.image import img_to_array, array_to_img\n",
        "from keras.preprocessing.image import img_to_array, array_to_img\n",
        "\n",
        "from keras.utils.vis_utils import plot_model\n",
        "\n",
        "from tensorflow.keras.applications.vgg16 import VGG16\n",
        "from tensorflow.keras.applications.vgg16 import preprocess_input\n",
        "\n",
        "from tensorflow.keras import layers, models\n",
        "\n",
        "warnings.simplefilter('always', category=UserWarning)"
      ]
    },
    {
      "cell_type": "code",
      "execution_count": null,
      "id": "9ed6ec2c",
      "metadata": {
        "id": "9ed6ec2c"
      },
      "outputs": [],
      "source": [
        "import pandas as pd\n",
        "import numpy as np\n",
        "from matplotlib import rcParams\n",
        "import string\n",
        "rcParams['figure.figsize'] = 14, 10"
      ]
    },
    {
      "cell_type": "code",
      "execution_count": null,
      "id": "94a39fca",
      "metadata": {
        "id": "94a39fca"
      },
      "outputs": [],
      "source": [
        "def show_accuracy_loss_plot(history, num_epochs):\n",
        "    epochs = [i for i in range(num_epochs)]\n",
        "    fig , ax = plt.subplots(1,2)\n",
        "    train_acc = history.history['accuracy']\n",
        "    train_loss = history.history['loss']\n",
        "    val_acc = history.history['val_accuracy']\n",
        "    val_loss = history.history['val_loss']\n",
        "    fig.set_size_inches(16,9)\n",
        "    \n",
        "    ax[0].plot(epochs , train_acc , 'go-' , label = 'Train Accuracy')\n",
        "    ax[0].plot(epochs , val_acc , 'ro-' , label = 'Test Accuracy')\n",
        "    ax[0].set_title('Training & Test Accuracy')\n",
        "    ax[0].legend()\n",
        "    ax[0].set_xlabel(\"Epochs\")\n",
        "    ax[0].set_ylabel(\"Accuracy\")\n",
        "    \n",
        "    ax[1].plot(epochs , train_loss , 'g-o' , label = 'Training Loss')\n",
        "    ax[1].plot(epochs , val_loss , 'r-o' , label = 'Testing Loss')\n",
        "    ax[1].set_title('Training & Test Loss')\n",
        "    ax[1].legend()\n",
        "    ax[1].set_xlabel(\"Epochs\")\n",
        "    ax[1].set_ylabel(\"Loss\")\n",
        "    plt.show()\n",
        "    \n",
        "def show_example_pictures(X_train, y_train, alphabetic_label, predictions):\n",
        "    p = 0\n",
        "    for i in range(10):\n",
        "        plt.subplot(3,5,p+1)\n",
        "        plt.imshow(X_train[i].reshape(28,28), cmap=\"gray\", interpolation='none')\n",
        "        plt.title(\"Label: {} Predicted: {}\".format(alphabetic_label[y_train[i]], alphabetic_label[predictions[i]]))\n",
        "        plt.tight_layout()\n",
        "        p += 1"
      ]
    },
    {
      "cell_type": "markdown",
      "id": "ff5e3bf1",
      "metadata": {
        "id": "ff5e3bf1"
      },
      "source": [
        "# 4.7 Ergebnis und Auswertung\n",
        "\n",
        "<img width=70% src=\"https://raw.githubusercontent.com/christianwarmuth/openhpi-kipraxis/main/images/cover_sign_language.jpg\">\n",
        "\n"
      ]
    },
    {
      "cell_type": "markdown",
      "id": "dbd1fcc8",
      "metadata": {
        "id": "dbd1fcc8"
      },
      "source": [
        "# Einlesen der Daten"
      ]
    },
    {
      "cell_type": "code",
      "execution_count": null,
      "id": "avI6ju2LZTr1",
      "metadata": {
        "id": "avI6ju2LZTr1"
      },
      "outputs": [],
      "source": [
        "!pip3 install kaggle\n",
        "!kaggle datasets download -d datamunge/sign-language-mnist"
      ]
    },
    {
      "cell_type": "code",
      "execution_count": null,
      "id": "fff92d09",
      "metadata": {
        "id": "fff92d09"
      },
      "outputs": [],
      "source": [
        "import zipfile\n",
        "with zipfile.ZipFile(\"sign-language-mnist.zip\", 'r') as zip_ref:\n",
        "    zip_ref.extractall(\"\")"
      ]
    },
    {
      "cell_type": "code",
      "execution_count": null,
      "id": "62fe6bc6",
      "metadata": {
        "id": "62fe6bc6"
      },
      "outputs": [],
      "source": [
        "df_train = pd.read_csv(\"sign_mnist_train.csv\")\n",
        "df_test = pd.read_csv(\"sign_mnist_test.csv\")"
      ]
    },
    {
      "cell_type": "code",
      "execution_count": null,
      "id": "5a3b29d1",
      "metadata": {
        "id": "5a3b29d1"
      },
      "outputs": [],
      "source": [
        "y_test = df_test[\"label\"]\n",
        "y_train = df_train[\"label\"]\n",
        "del df_train['label']\n",
        "del df_test['label']"
      ]
    },
    {
      "cell_type": "code",
      "execution_count": null,
      "id": "26af01e2",
      "metadata": {
        "id": "26af01e2"
      },
      "outputs": [],
      "source": [
        "# Normalisierung\n",
        "X_train = df_train.values/255\n",
        "X_test = df_test.values/255\n",
        "\n",
        "# Reshaping von 1D zu 3D\n",
        "X_train = X_train.reshape(-1,28,28,1)\n",
        "X_test = X_test.reshape(-1,28,28,1)"
      ]
    },
    {
      "cell_type": "code",
      "execution_count": null,
      "id": "a6f63bd8",
      "metadata": {
        "id": "a6f63bd8"
      },
      "outputs": [],
      "source": [
        "alphabetic_label = [\"A\", \"B\", \"C\", \"D\", \"E\", \"F\", \"G\", \"H\", \"I\", \"J\", \"K\", \"L\", \"M\", \"N\", \"O\", \"P\", \"Q\", \"R\", \"S\", \"R\", \"U\", \"V\", \"W\", \"X\", \"Y\", \"Z\"]"
      ]
    },
    {
      "cell_type": "markdown",
      "id": "04a260d8",
      "metadata": {
        "id": "04a260d8"
      },
      "source": [
        "# Label Encoding"
      ]
    },
    {
      "cell_type": "code",
      "execution_count": null,
      "id": "867f1c16",
      "metadata": {
        "id": "867f1c16"
      },
      "outputs": [],
      "source": [
        "lb=LabelBinarizer()\n",
        "lb.fit(y_train)\n",
        "y_test_oh = lb.transform(y_test)\n",
        "y_train_oh = lb.transform(y_train)"
      ]
    },
    {
      "cell_type": "code",
      "execution_count": null,
      "id": "97bdab6e",
      "metadata": {
        "id": "97bdab6e"
      },
      "outputs": [],
      "source": [
        "data_augmentation = ImageDataGenerator(\n",
        "                                  rotation_range = 0,\n",
        "                                  height_shift_range=0.2,\n",
        "                                  width_shift_range=0.2,\n",
        "                                  shear_range=0,\n",
        "                                  horizontal_flip=False,\n",
        "                                  vertical_flip=False)\n",
        "data_augmentation.fit(X_train)"
      ]
    },
    {
      "cell_type": "code",
      "execution_count": null,
      "id": "c9518534",
      "metadata": {
        "id": "c9518534"
      },
      "outputs": [],
      "source": [
        "model=Sequential()\n",
        "model.add(Conv2D(128,kernel_size=(5,5),\n",
        "                 strides=1,padding='same',activation='relu',input_shape=(28,28,1)))\n",
        "model.add(MaxPool2D(pool_size=(3,3),strides=2,padding='same'))\n",
        "model.add(Conv2D(64,kernel_size=(2,2),\n",
        "                strides=1,activation='relu',padding='same'))\n",
        "model.add(MaxPool2D((2,2),2,padding='same'))\n",
        "model.add(Conv2D(32,kernel_size=(2,2),\n",
        "                strides=1,activation='relu',padding='same'))\n",
        "model.add(MaxPool2D((2,2),2,padding='same'))\n",
        "          \n",
        "model.add(Flatten())\n",
        "\n",
        "model.add(Dense(units=256,activation='relu'))\n",
        "model.add(Dropout(rate=0.3))\n",
        "model.add(Dense(units=128,activation='relu'))\n",
        "model.add(Dropout(rate=0.3))\n",
        "model.add(Dense(units=24,activation='softmax'))\n",
        "model.summary()\n",
        "\n",
        "model.compile(optimizer='adam',loss='categorical_crossentropy',metrics=['accuracy'])"
      ]
    },
    {
      "cell_type": "code",
      "execution_count": null,
      "id": "6aab68db",
      "metadata": {
        "id": "6aab68db"
      },
      "outputs": [],
      "source": [
        "history = model.fit(data_augmentation.flow(X_train,y_train_oh,batch_size=128),\n",
        "         epochs = 40,\n",
        "          shuffle=1,\n",
        "           validation_data=(X_test,y_test_oh),\n",
        "         )"
      ]
    },
    {
      "cell_type": "markdown",
      "id": "c4a80ada",
      "metadata": {
        "id": "c4a80ada"
      },
      "source": [
        "In dieser Einheit wollen wir noch einmal im Detail die Ergebnisse unserer Modelle betrachten. Zunächst betrachten wir noch einmal die Accuracy- und Loss-Kurve für die Trainings- und Testdaten. "
      ]
    },
    {
      "cell_type": "code",
      "execution_count": null,
      "id": "e582aafb",
      "metadata": {
        "id": "e582aafb",
        "scrolled": true
      },
      "outputs": [],
      "source": [
        "show_accuracy_loss_plot(history, num_epochs=40)"
      ]
    },
    {
      "cell_type": "markdown",
      "id": "898d8c46",
      "metadata": {
        "id": "898d8c46"
      },
      "source": [
        "Wir geben uns erneut einmal die Accuracy unseres Modells direkt aus. "
      ]
    },
    {
      "cell_type": "code",
      "execution_count": null,
      "id": "3e969551",
      "metadata": {
        "id": "3e969551"
      },
      "outputs": [],
      "source": [
        "(ls,acc)=model.evaluate(x=X_test,y=y_test_oh)\n",
        "print('Modell Accuracy = {}%'.format(acc*100))"
      ]
    },
    {
      "cell_type": "markdown",
      "id": "f55e7e96",
      "metadata": {
        "id": "f55e7e96"
      },
      "source": [
        "Da wir für zwei Klassen (Klasse 9 - Symbol J und Klasse 25 - Symbol Z) keine Bilder haben, müssen wir unsere Ergebnisse etwas anpassen. Da für Klasse 9 keine Daten vorhanden waren, müssen wir unsere Ergebnis-Labels jeweils um einen Zähler erhöhen, wenn sie an der Stelle >= 9 liegen. Dann stimmen die Labels in unserer Vorhersage mit den realen Labels wieder überein. "
      ]
    },
    {
      "cell_type": "code",
      "execution_count": null,
      "id": "e56ca433",
      "metadata": {
        "id": "e56ca433"
      },
      "outputs": [],
      "source": [
        "predictions = np.argmax(model.predict(X_test), axis=-1)\n",
        "for i in range(len(predictions)):\n",
        "    if(predictions[i] >= 9):\n",
        "        predictions[i] += 1"
      ]
    },
    {
      "cell_type": "markdown",
      "id": "13503a7c",
      "metadata": {
        "id": "13503a7c"
      },
      "source": [
        "Wir können uns auch jeweils eine detaillierte Analyse der gesamten Klassifikation ausgeben lassen mit einer Auflistung aller Klassen und deren Ergebnisse. Man sieht hierbei, dass z.B. Klasse 1 nicht immer optimale Ergebnisse erzielt. "
      ]
    },
    {
      "cell_type": "code",
      "execution_count": null,
      "id": "5c6c1772",
      "metadata": {
        "id": "5c6c1772"
      },
      "outputs": [],
      "source": [
        "classes = [\"Class \" + str(i) for i in range(25) if i != 9]\n",
        "print(classification_report(y_test, predictions, target_names = classes))"
      ]
    },
    {
      "cell_type": "markdown",
      "id": "d3e15d7f",
      "metadata": {
        "id": "d3e15d7f"
      },
      "source": [
        "Um das Ganze noch etwas graphischer darzustellen, verwenden wir eine sogenannte Confusion Matrix. Hier wird jeweils die tatsächliche Klasse mit der vorhergesagten Klasse verglichen. Stimmen diese überein, dann befinden sich alle Einträge auf der Diagonalen von oben links nach unten rechts. "
      ]
    },
    {
      "cell_type": "code",
      "execution_count": null,
      "id": "fe00beb7",
      "metadata": {
        "id": "fe00beb7"
      },
      "outputs": [],
      "source": [
        "cm = confusion_matrix(y_test,predictions)\n",
        "cm = pd.DataFrame(cm , index = [i for i in range(25) if i != 9] , columns = [i for i in range(25) if i != 9])"
      ]
    },
    {
      "cell_type": "code",
      "execution_count": null,
      "id": "e3c69f93",
      "metadata": {
        "id": "e3c69f93"
      },
      "outputs": [],
      "source": [
        "plt.figure(figsize = (15,15))\n",
        "sns.heatmap(cm,cmap= \"Blues\", linecolor = 'black' , linewidth = 1 , annot = True, fmt='')"
      ]
    },
    {
      "cell_type": "markdown",
      "id": "c79d5582",
      "metadata": {
        "id": "c79d5582"
      },
      "source": [
        "Zum Anfang haben wir uns einige Beispielbilder ausgeben lassen. Da wir nun die Vorhersagen gemacht haben, geben wir uns einige Bilder aus mit dem Ergebnis unseres Modells und dem tatsächlichen Label."
      ]
    },
    {
      "cell_type": "code",
      "execution_count": null,
      "id": "228b2fc4",
      "metadata": {
        "id": "228b2fc4"
      },
      "outputs": [],
      "source": [
        "show_example_pictures(X_test, y_test, alphabetic_label, predictions)"
      ]
    },
    {
      "cell_type": "markdown",
      "id": "3b88140e",
      "metadata": {
        "id": "3b88140e"
      },
      "source": [
        "Hier wollen wir allerdings einmal festhalten, dass die erreichten Ergebnisse keinesfalls in jedem Datensatz und für jeden Anwendungsfall so gut ausfallen. Das ist grundsätzlich immer Datensatz und Modell spezifisch. Solch gute Ergebnisse lassen sich in realen Anwendungsfällen meist sehr selten erzielen. Wir müssen uns vor Augen führen, dass dieser Datensatz auch unter sehr kontrollierten Bedingungen aufgenommen wurde. Die Symbole wurden jeweils vor einem neutralen Hintergrund aufgenommen. \n",
        "\n",
        "Wir man diese Bildanalyse in der Praxis einsetzen, so wird man sicherlich auf einige Probleme stoßen (z.B. bei verschiedenen Hintergründen, durch Bewegung verzerrte Bilder). \n",
        "\n",
        "Das war es zu unserer Einheit **Ergebnis und Auswertung** für den Anwendungsfall der Bilderkennung von Gebärdensprache."
      ]
    }
  ],
  "metadata": {
    "accelerator": "GPU",
    "celltoolbar": "Slideshow",
    "colab": {
      "include_colab_link": true,
      "name": "4.7 Ergebnis und Auswertung.ipynb",
      "provenance": []
    },
    "interpreter": {
      "hash": "949777d72b0d2535278d3dc13498b2535136f6dfe0678499012e853ee9abcab1"
    },
    "kernelspec": {
      "display_name": "Python 3.7.9 64-bit",
      "name": "python3"
    },
    "language_info": {
      "codemirror_mode": {
        "name": "ipython",
        "version": 3
      },
      "file_extension": ".py",
      "mimetype": "text/x-python",
      "name": "python",
      "nbconvert_exporter": "python",
      "pygments_lexer": "ipython3",
      "version": "3.7.9"
    }
  },
  "nbformat": 4,
  "nbformat_minor": 5
}
